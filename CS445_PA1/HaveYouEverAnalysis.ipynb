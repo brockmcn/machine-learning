{
 "cells": [
  {
   "cell_type": "markdown",
   "metadata": {},
   "source": [
    "# Have You Ever Analysis\n",
    "You will apply your decision tree to the problem of determining a respondent's age based on their answers to an online quiz. The quiz consists of 30 Yes/No questions like\n",
    "\n",
    "Have you ever broken a bone?\n",
    "Have you ever been on the radio or television?\n",
    "etc.\n",
    "\n",
    "Determining demographic information about customers based on seeminly innocuous data revealed online is big business these days.\n",
    "\n",
    "For this part of the assignment, you will create and submit a jupyter notebook that satisfies the following requirements:\n",
    "\n",
    "Write code to perform hyper-paramter tuning using cross validation, including:\n",
    "    a plot of the cross validation error for various hyper-parameter settings\n",
    "    Short discussion on the number of partitions used in the cross-validation\n",
    "Illustrate model evaluation by determining the classification error on the test set\n",
    "Construct a 4x4 confusion matrix illustrates the results on the test set\n",
    "Discussion on which attributes were used by your decision tree\n",
    "\n",
    "All plots and table should contain text explaining them. Plots without accompanying text will not receive any credit. You may use Sklearn modules for cross-validation (creating training/test, splits for k-folds, etc). No sklearn methods should appear in decision_tree.py.\n"
   ]
  },
  {
   "cell_type": "markdown",
   "metadata": {},
   "source": [
    "# <span style=\"color:red\">Part 1</span>\n",
    "\n",
    "Write code to perform hyper-paramter tuning using cross validation"
   ]
  },
  {
   "cell_type": "markdown",
   "metadata": {},
   "source": [
    "## Activity 1\n",
    "\n",
    "Create a plot of the cross validation error for various hyper-parameter settings"
   ]
  },
  {
   "cell_type": "code",
   "execution_count": null,
   "metadata": {},
   "outputs": [],
   "source": []
  },
  {
   "cell_type": "markdown",
   "metadata": {},
   "source": [
    "Explanation:"
   ]
  },
  {
   "cell_type": "markdown",
   "metadata": {},
   "source": [
    "## Activity 2\n",
    "\n",
    "Write a short discussion on the number of partitions used in the cross-validation"
   ]
  },
  {
   "cell_type": "markdown",
   "metadata": {},
   "source": [
    "Answer:"
   ]
  },
  {
   "cell_type": "markdown",
   "metadata": {},
   "source": [
    "# <span style=\"color:red\">Part 2</span>\n",
    "\n",
    "Illustrate model evaluation by determining the classification error on the test set"
   ]
  },
  {
   "cell_type": "code",
   "execution_count": null,
   "metadata": {},
   "outputs": [],
   "source": []
  },
  {
   "cell_type": "markdown",
   "metadata": {},
   "source": [
    "Explanation:"
   ]
  },
  {
   "cell_type": "markdown",
   "metadata": {},
   "source": [
    "# <span style=\"color:red\">Part 3</span>\n",
    "\n",
    "Construct a 4x4 confusion matrix illustrates the results on the test set"
   ]
  },
  {
   "cell_type": "code",
   "execution_count": null,
   "metadata": {},
   "outputs": [],
   "source": []
  },
  {
   "cell_type": "markdown",
   "metadata": {},
   "source": [
    "Explanation:"
   ]
  },
  {
   "cell_type": "markdown",
   "metadata": {},
   "source": [
    "# <span style=\"color:red\">Part 4</span>\n",
    "Discussion on which attributes were used by your decision tree"
   ]
  },
  {
   "cell_type": "markdown",
   "metadata": {},
   "source": [
    "Discussion:"
   ]
  }
 ],
 "metadata": {
  "kernelspec": {
   "display_name": "Python 3",
   "language": "python",
   "name": "python3"
  },
  "language_info": {
   "codemirror_mode": {
    "name": "ipython",
    "version": 3
   },
   "file_extension": ".py",
   "mimetype": "text/x-python",
   "name": "python",
   "nbconvert_exporter": "python",
   "pygments_lexer": "ipython3",
   "version": "3.7.3"
  }
 },
 "nbformat": 4,
 "nbformat_minor": 4
}
